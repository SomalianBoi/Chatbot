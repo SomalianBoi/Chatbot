{
 "cells": [
  {
   "cell_type": "code",
   "execution_count": 123,
   "metadata": {},
   "outputs": [],
   "source": [
    "import pandas as pd"
   ]
  },
  {
   "cell_type": "code",
   "execution_count": 124,
   "metadata": {},
   "outputs": [],
   "source": [
    "import seaborn as sns\n",
    "import matplotlib.pyplot as plt"
   ]
  },
  {
   "cell_type": "code",
   "execution_count": 125,
   "metadata": {},
   "outputs": [],
   "source": [
    "data_path = '/Users/User/Desktop/products-Neptun.csv'"
   ]
  },
  {
   "cell_type": "code",
   "execution_count": 127,
   "metadata": {},
   "outputs": [
    {
     "data": {
      "text/html": [
       "<div>\n",
       "<style scoped>\n",
       "    .dataframe tbody tr th:only-of-type {\n",
       "        vertical-align: middle;\n",
       "    }\n",
       "\n",
       "    .dataframe tbody tr th {\n",
       "        vertical-align: top;\n",
       "    }\n",
       "\n",
       "    .dataframe thead th {\n",
       "        text-align: right;\n",
       "    }\n",
       "</style>\n",
       "<table border=\"1\" class=\"dataframe\">\n",
       "  <thead>\n",
       "    <tr style=\"text-align: right;\">\n",
       "      <th></th>\n",
       "      <th>Category</th>\n",
       "      <th>Name</th>\n",
       "      <th>Happy Price</th>\n",
       "      <th>Price</th>\n",
       "      <th>Specifications</th>\n",
       "    </tr>\n",
       "  </thead>\n",
       "  <tbody>\n",
       "    <tr>\n",
       "      <th>0</th>\n",
       "      <td>One-box-sistemi</td>\n",
       "      <td>Onebox систем MIKADO MD-814KP Black (33819), 1...</td>\n",
       "      <td>1.199</td>\n",
       "      <td>1.999</td>\n",
       "      <td>Преносен звучник\\nМоќност:15W\\nMikrofon AUX /U...</td>\n",
       "    </tr>\n",
       "    <tr>\n",
       "      <th>1</th>\n",
       "      <td>One-box-sistemi</td>\n",
       "      <td>One-box систем MIKADOMD-801KP</td>\n",
       "      <td>5.295</td>\n",
       "      <td>7.999</td>\n",
       "      <td>Портбл звучник\\nБоја:црна\\nОсветлување:Led\\nВл...</td>\n",
       "    </tr>\n",
       "    <tr>\n",
       "      <th>2</th>\n",
       "      <td>One-box-sistemi</td>\n",
       "      <td>One-box систем VIVAX BS-700</td>\n",
       "      <td>NaN</td>\n",
       "      <td>6.790</td>\n",
       "      <td>BT звучник\\nМоќност: 70W\\nПоврзување: Bluetoot...</td>\n",
       "    </tr>\n",
       "    <tr>\n",
       "      <th>3</th>\n",
       "      <td>One-box-sistemi</td>\n",
       "      <td>One- box sistem Mikado MD-BT51 BOMBIX 60W BT/U...</td>\n",
       "      <td>NaN</td>\n",
       "      <td>7.299</td>\n",
       "      <td>Портабл звучник\\nМоќност: 60W\\nПоддршка: Usb\\n...</td>\n",
       "    </tr>\n",
       "    <tr>\n",
       "      <th>4</th>\n",
       "      <td>One-box-sistemi</td>\n",
       "      <td>One-box систем VIVAX BS-500, 50W, AUX</td>\n",
       "      <td>NaN</td>\n",
       "      <td>8.999</td>\n",
       "      <td>BT звучник\\nМоќност: 50W\\nПоврзување: Bluetoot...</td>\n",
       "    </tr>\n",
       "    <tr>\n",
       "      <th>...</th>\n",
       "      <td>...</td>\n",
       "      <td>...</td>\n",
       "      <td>...</td>\n",
       "      <td>...</td>\n",
       "      <td>...</td>\n",
       "    </tr>\n",
       "    <tr>\n",
       "      <th>4072</th>\n",
       "      <td>gaming-laptopi</td>\n",
       "      <td>Лаптоп LENOVO Legion 5 16IRX9 16\" i7-14650HX/3...</td>\n",
       "      <td>104.999</td>\n",
       "      <td>116.999</td>\n",
       "      <td>Лаптоп\\nДисплеј:16\" (40.64cm)\\nРезолуција:WQXG...</td>\n",
       "    </tr>\n",
       "    <tr>\n",
       "      <th>4073</th>\n",
       "      <td>gaming-laptopi</td>\n",
       "      <td>ACER Predator Helios Neo PHN16-72-90UA 16\" i9-...</td>\n",
       "      <td>NaN</td>\n",
       "      <td>122.999</td>\n",
       "      <td>Лаптоп\\nДисплеј:16\" (40.6cm)\\nРезолуција:(2560...</td>\n",
       "    </tr>\n",
       "    <tr>\n",
       "      <th>4074</th>\n",
       "      <td>gaming-laptopi</td>\n",
       "      <td>Лаптоп ASUS ROG Zephyrus G14 GA403UI-QS048W 14...</td>\n",
       "      <td>127.999</td>\n",
       "      <td>139.999</td>\n",
       "      <td>Лаптоп\\nДисплеј: 14\" (39.6cm)\\nРезолуција:(288...</td>\n",
       "    </tr>\n",
       "    <tr>\n",
       "      <th>4075</th>\n",
       "      <td>gaming-laptopi</td>\n",
       "      <td>Лаптоп LENOVO Legion Pro 7 16IRX9H 16\" i9-1490...</td>\n",
       "      <td>168.999</td>\n",
       "      <td>187.999</td>\n",
       "      <td>Лаптоп\\nДисплеј:16\" (40.64cm)\\nРезолуција:WQXG...</td>\n",
       "    </tr>\n",
       "    <tr>\n",
       "      <th>4076</th>\n",
       "      <td>gaming-laptopi</td>\n",
       "      <td>ACER Predator Helios PH18-72-97CP 18\" Mini-Led...</td>\n",
       "      <td>NaN</td>\n",
       "      <td>229.999</td>\n",
       "      <td>Лаптоп\\nДисплеј:18\" (45.72 cm)\\nРезолуција:(25...</td>\n",
       "    </tr>\n",
       "  </tbody>\n",
       "</table>\n",
       "<p>4077 rows × 5 columns</p>\n",
       "</div>"
      ],
      "text/plain": [
       "             Category                                               Name  \\\n",
       "0     One-box-sistemi  Onebox систем MIKADO MD-814KP Black (33819), 1...   \n",
       "1     One-box-sistemi                      One-box систем MIKADOMD-801KP   \n",
       "2     One-box-sistemi                        One-box систем VIVAX BS-700   \n",
       "3     One-box-sistemi  One- box sistem Mikado MD-BT51 BOMBIX 60W BT/U...   \n",
       "4     One-box-sistemi              One-box систем VIVAX BS-500, 50W, AUX   \n",
       "...               ...                                                ...   \n",
       "4072   gaming-laptopi  Лаптоп LENOVO Legion 5 16IRX9 16\" i7-14650HX/3...   \n",
       "4073   gaming-laptopi  ACER Predator Helios Neo PHN16-72-90UA 16\" i9-...   \n",
       "4074   gaming-laptopi  Лаптоп ASUS ROG Zephyrus G14 GA403UI-QS048W 14...   \n",
       "4075   gaming-laptopi  Лаптоп LENOVO Legion Pro 7 16IRX9H 16\" i9-1490...   \n",
       "4076   gaming-laptopi  ACER Predator Helios PH18-72-97CP 18\" Mini-Led...   \n",
       "\n",
       "      Happy Price    Price                                     Specifications  \n",
       "0           1.199    1.999  Преносен звучник\\nМоќност:15W\\nMikrofon AUX /U...  \n",
       "1           5.295    7.999  Портбл звучник\\nБоја:црна\\nОсветлување:Led\\nВл...  \n",
       "2             NaN    6.790  BT звучник\\nМоќност: 70W\\nПоврзување: Bluetoot...  \n",
       "3             NaN    7.299  Портабл звучник\\nМоќност: 60W\\nПоддршка: Usb\\n...  \n",
       "4             NaN    8.999  BT звучник\\nМоќност: 50W\\nПоврзување: Bluetoot...  \n",
       "...           ...      ...                                                ...  \n",
       "4072      104.999  116.999  Лаптоп\\nДисплеј:16\" (40.64cm)\\nРезолуција:WQXG...  \n",
       "4073          NaN  122.999  Лаптоп\\nДисплеј:16\" (40.6cm)\\nРезолуција:(2560...  \n",
       "4074      127.999  139.999  Лаптоп\\nДисплеј: 14\" (39.6cm)\\nРезолуција:(288...  \n",
       "4075      168.999  187.999  Лаптоп\\nДисплеј:16\" (40.64cm)\\nРезолуција:WQXG...  \n",
       "4076          NaN  229.999  Лаптоп\\nДисплеј:18\" (45.72 cm)\\nРезолуција:(25...  \n",
       "\n",
       "[4077 rows x 5 columns]"
      ]
     },
     "execution_count": 127,
     "metadata": {},
     "output_type": "execute_result"
    }
   ],
   "source": [
    "df = pd.read_csv(data_path)\n",
    "\n",
    "# Display the first few rows of the dataset\n",
    "df\n",
    "\n"
   ]
  },
  {
   "cell_type": "code",
   "execution_count": 128,
   "metadata": {},
   "outputs": [],
   "source": [
    "# Function to remove newlines within double quotes\n",
    "def remove_newlines(text):\n",
    "    if pd.isna(text):  # Check for NaN values\n",
    "        return text\n",
    "    return text.replace('\\n', ' ').replace('\\r', '')\n",
    "\n",
    "# Apply the function to the 'specification' column\n",
    "df['Specifications'] = df['Specifications'].apply(remove_newlines)"
   ]
  },
  {
   "cell_type": "code",
   "execution_count": 129,
   "metadata": {},
   "outputs": [],
   "source": [
    "new_data_path = '/Users/User/Desktop/dataset_cleaned.csv'  # Adjust the path as needed\n",
    "df.to_csv(new_data_path, index=False)"
   ]
  },
  {
   "cell_type": "code",
   "execution_count": 130,
   "metadata": {},
   "outputs": [],
   "source": [
    "new_data_path = '/Users/User/Desktop/dataset_cleaned.csv'"
   ]
  },
  {
   "cell_type": "code",
   "execution_count": 131,
   "metadata": {},
   "outputs": [],
   "source": [
    "df_cleaned = pd.read_csv(new_data_path)"
   ]
  },
  {
   "cell_type": "code",
   "execution_count": 132,
   "metadata": {},
   "outputs": [
    {
     "name": "stdout",
     "output_type": "stream",
     "text": [
      "Category             0\n",
      "Name                12\n",
      "Happy Price       2124\n",
      "Price               12\n",
      "Specifications      30\n",
      "dtype: int64\n"
     ]
    }
   ],
   "source": [
    "null_values = df_cleaned.isnull().sum()\n",
    "print(null_values)"
   ]
  },
  {
   "cell_type": "code",
   "execution_count": 133,
   "metadata": {},
   "outputs": [],
   "source": [
    "df_cleaned = df_cleaned.dropna(subset=['Specifications'])"
   ]
  },
  {
   "cell_type": "code",
   "execution_count": 134,
   "metadata": {},
   "outputs": [
    {
     "name": "stdout",
     "output_type": "stream",
     "text": [
      "Category             0\n",
      "Name                 0\n",
      "Happy Price       2099\n",
      "Price                0\n",
      "Specifications       0\n",
      "dtype: int64\n"
     ]
    }
   ],
   "source": [
    "null_values = df_cleaned.isnull().sum()\n",
    "print(null_values)"
   ]
  }
 ],
 "metadata": {
  "kernelspec": {
   "display_name": "Python 3",
   "language": "python",
   "name": "python3"
  },
  "language_info": {
   "codemirror_mode": {
    "name": "ipython",
    "version": 3
   },
   "file_extension": ".py",
   "mimetype": "text/x-python",
   "name": "python",
   "nbconvert_exporter": "python",
   "pygments_lexer": "ipython3",
   "version": "3.8.2"
  },
  "orig_nbformat": 4
 },
 "nbformat": 4,
 "nbformat_minor": 2
}
